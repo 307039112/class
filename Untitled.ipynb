{
 "cells": [
  {
   "cell_type": "code",
   "execution_count": 1,
   "metadata": {},
   "outputs": [],
   "source": [
    "import pandas as pd\n",
    "\n",
    "from sklearn import preprocessing\n",
    "from sklearn.manifold import MDS\n",
    "from sklearn.manifold import TSNE\n",
    "import os"
   ]
  },
  {
   "cell_type": "code",
   "execution_count": 2,
   "metadata": {},
   "outputs": [],
   "source": [
    "class TSMODEL:\n",
    "\n",
    "    \"\"\"Summary\n",
    "    \n",
    "    Attributes:\n",
    "        proj_data_MDS (TYPE): Description\n",
    "        proj_data_TSNE (TYPE): Description\n",
    "        X (TYPE): Description\n",
    "        X_scaled (TYPE): Description\n",
    "    \"\"\"\n",
    "    \n",
    "    def __init__(self, data_frame):\n",
    "        \"\"\"Init method\n",
    "        \n",
    "        Args:\n",
    "            data_frame (TYPE): Description\n",
    "        \"\"\"\n",
    "        self.X = data_frame[data_frame.columns[1:8]]\n",
    "        self.X_scaled = preprocessing.scale(self.X)\n",
    "\n",
    "    def fit_model_MDS(self, n_components):\n",
    "        \"\"\"Summary\n",
    "        \n",
    "        Args:\n",
    "            n_components (TYPE): Description\n",
    "        \"\"\"\n",
    "        embedding = MDS(n_components=n_components)\n",
    "        X_MDS = embedding.fit_transform(self.X_scaled)\n",
    "\n",
    "        self.proj_data_MDS = pd.DataFrame(X_MDS)\n",
    "\n",
    "        dummy_dict = {'row_1': 1, 'row_2': 2}\n",
    "        return dummy_dict\n",
    "\n",
    "    def fit_model_TSNE(self, **kwargs):\n",
    "        \"\"\"Summary\n",
    "        \n",
    "        Args:\n",
    "            **kwargs: Description\n",
    "        \"\"\"\n",
    "        X_proj_TSNE = TSNE(**kwargs).fit_transform(self.X_scaled)\n",
    "        self.proj_data_TSNE = pd.DataFrame(X_proj_TSNE)\n",
    "\n",
    "        dummy_dict = {'row_1': 3, 'row_2': 4}\n",
    "        return dummy_dict"
   ]
  },
  {
   "cell_type": "code",
   "execution_count": 3,
   "metadata": {},
   "outputs": [
    {
     "data": {
      "text/plain": [
       "{'row_1': 3, 'row_2': 4}"
      ]
     },
     "execution_count": 3,
     "metadata": {},
     "output_type": "execute_result"
    }
   ],
   "source": [
    "data_frame=pd.read_excel(\"Book1.xlsx\")\n",
    "tsmodel = TSMODEL(data_frame)\n",
    "n_comp=2\n",
    "res = tsmodel.fit_model_TSNE(n_components=n_comp)\n",
    "res"
   ]
  },
  {
   "cell_type": "code",
   "execution_count": 6,
   "metadata": {},
   "outputs": [
    {
     "data": {
      "text/plain": [
       "{'row_1': 3, 'row_2': 4}"
      ]
     },
     "execution_count": 6,
     "metadata": {},
     "output_type": "execute_result"
    }
   ],
   "source": [
    "from dim_reduction.tsmodel import TSMODEL as TS_remote\n",
    "\n",
    "tsmodel = TSMODEL(data_frame)\n",
    "n_comp=2\n",
    "res = tsmodel.fit_model_TSNE(n_components=n_comp)\n",
    "res"
   ]
  },
  {
   "cell_type": "code",
   "execution_count": null,
   "metadata": {},
   "outputs": [],
   "source": []
  },
  {
   "cell_type": "code",
   "execution_count": null,
   "metadata": {},
   "outputs": [],
   "source": []
  },
  {
   "cell_type": "code",
   "execution_count": null,
   "metadata": {},
   "outputs": [],
   "source": []
  }
 ],
 "metadata": {
  "kernelspec": {
   "display_name": "my-pipenv_class",
   "language": "python",
   "name": "my-pipenv_class"
  },
  "language_info": {
   "codemirror_mode": {
    "name": "ipython",
    "version": 3
   },
   "file_extension": ".py",
   "mimetype": "text/x-python",
   "name": "python",
   "nbconvert_exporter": "python",
   "pygments_lexer": "ipython3",
   "version": "3.7.1"
  }
 },
 "nbformat": 4,
 "nbformat_minor": 2
}
